{
 "cells": [
  {
   "cell_type": "markdown",
   "metadata": {},
   "source": [
    "## Details\n",
    "\n",
    "#### Name: Akshat Toolaj Sinha\n",
    "#### Entry Number: 2020CSB1068\n",
    "#### Equity: Tech Mahindra"
   ]
  },
  {
   "cell_type": "markdown",
   "metadata": {},
   "source": [
    "## Libraries & Constants"
   ]
  },
  {
   "cell_type": "code",
   "execution_count": null,
   "metadata": {},
   "outputs": [],
   "source": [
    "import numpy as np\n",
    "import pandas as pd\n",
    "import matplotlib.pyplot as plt\n",
    "import seaborn as sns\n",
    "import math \n",
    "import yfinance as yf\n",
    "import datetime\n",
    "import os\n",
    "import matplotlib.dates as mdates\n",
    "from arch import arch_model\n",
    "from scipy.stats import norm"
   ]
  },
  {
   "cell_type": "code",
   "execution_count": null,
   "metadata": {},
   "outputs": [],
   "source": [
    "plt.rcParams['figure.figsize'] = [12, 8]\n",
    "sns.set_palette('flare')\n",
    "sns.set_style(\"darkgrid\")\n",
    "sns.despine()\n"
   ]
  },
  {
   "cell_type": "code",
   "execution_count": null,
   "metadata": {},
   "outputs": [],
   "source": [
    "TICKER='TECHM.NS'\n",
    "PERIOD='max'\n",
    "FILE_NAME='TECH_MAHINDRA.csv'\n",
    "PRICE_ANALYSIS='Close'\n",
    "EQUITY_NAME='Tech Mahindra'\n",
    "SIGNIFICANCE_LEVEL=0.05\n",
    "TRADING_DAYS=252\n",
    "YEAR_DAYS=365\n",
    "OPTION_EXPIRY=datetime.date(2024,5,31)\n",
    "TODAY=datetime.date.today()\n",
    "\n",
    "# Risk Free Rate for 91 Days\n",
    "RISK_FREE_RATE= 6.88"
   ]
  },
  {
   "cell_type": "markdown",
   "metadata": {
    "vscode": {
     "languageId": "plaintext"
    }
   },
   "source": [
    "## Data Downloading & Augmentation"
   ]
  },
  {
   "cell_type": "markdown",
   "metadata": {},
   "source": []
  },
  {
   "cell_type": "code",
   "execution_count": null,
   "metadata": {},
   "outputs": [],
   "source": [
    "Equity_df=yf.download(TICKER,period=PERIOD,auto_adjust=True)"
   ]
  },
  {
   "cell_type": "code",
   "execution_count": null,
   "metadata": {},
   "outputs": [],
   "source": [
    "Equity_df.reset_index(inplace=True)\n",
    "Equity_df = Equity_df.round(4)"
   ]
  },
  {
   "cell_type": "code",
   "execution_count": null,
   "metadata": {},
   "outputs": [],
   "source": [
    "Equity_df.to_csv(FILE_NAME,index=False)"
   ]
  },
  {
   "cell_type": "markdown",
   "metadata": {},
   "source": [
    "## Data Visualization"
   ]
  },
  {
   "cell_type": "markdown",
   "metadata": {},
   "source": [
    "Plotting Equity price "
   ]
  },
  {
   "cell_type": "code",
   "execution_count": null,
   "metadata": {},
   "outputs": [],
   "source": [
    "sns.lineplot(data=Equity_df,x='Date',y=PRICE_ANALYSIS)\n",
    "plt.xlabel(\"Year\")\n",
    "plt.ylabel(\"Price (Rs.)\")\n",
    "plt.title(EQUITY_NAME+ \" Equity Price\")\n",
    "plt.gca().xaxis.set_major_locator(mdates.YearLocator(1))\n",
    "plt.gca().xaxis.set_major_formatter(mdates.DateFormatter('%Y'))\n",
    "plt.xticks(rotation=45)\n",
    "plt.yticks(range(0,int(max(Equity_df[PRICE_ANALYSIS]))+100,100))\n",
    "plt.show()"
   ]
  },
  {
   "cell_type": "markdown",
   "metadata": {},
   "source": [
    "Plotting Log Returns"
   ]
  },
  {
   "cell_type": "code",
   "execution_count": null,
   "metadata": {},
   "outputs": [],
   "source": [
    "log_returns=np.log(Equity_df[PRICE_ANALYSIS]/Equity_df[PRICE_ANALYSIS].shift(1))"
   ]
  },
  {
   "cell_type": "code",
   "execution_count": null,
   "metadata": {},
   "outputs": [],
   "source": [
    "log_returns=log_returns.dropna()\n",
    "log_returns.reset_index(drop=True,inplace=True)"
   ]
  },
  {
   "cell_type": "code",
   "execution_count": null,
   "metadata": {},
   "outputs": [],
   "source": [
    "log_returns=log_returns*100"
   ]
  },
  {
   "cell_type": "code",
   "execution_count": null,
   "metadata": {},
   "outputs": [],
   "source": [
    "dates=Equity_df['Date'][1:]"
   ]
  },
  {
   "cell_type": "code",
   "execution_count": null,
   "metadata": {},
   "outputs": [],
   "source": [
    "sns.lineplot(x=dates,y=log_returns)\n",
    "plt.xlabel(\"Year\")\n",
    "plt.ylabel(\"Returns (%)\")\n",
    "plt.title(EQUITY_NAME+\" Daily Returns\")\n",
    "plt.gca().xaxis.set_major_locator(mdates.YearLocator(1))\n",
    "plt.gca().xaxis.set_major_formatter(mdates.DateFormatter('%Y'))\n",
    "plt.xticks(rotation=45)\n",
    "plt.yticks(np.arange(int(min(log_returns))-1,max(log_returns)+1,2))\n",
    "plt.show()"
   ]
  },
  {
   "cell_type": "markdown",
   "metadata": {},
   "source": [
    "## Normality Tests"
   ]
  },
  {
   "cell_type": "code",
   "execution_count": null,
   "metadata": {},
   "outputs": [],
   "source": [
    "from statsmodels.graphics.gofplots import qqplot\n",
    "\n",
    "qqplot(log_returns,line='s')\n",
    "plt.title(\"QQ Plot of Log Returns\")\n",
    "plt.xlabel(\"Theoretical Quantiles\")\n",
    "plt.ylabel(\"Sample Quantiles\")\n",
    "plt.show()"
   ]
  },
  {
   "cell_type": "code",
   "execution_count": null,
   "metadata": {},
   "outputs": [],
   "source": [
    "sns.histplot(log_returns,kde=True)"
   ]
  },
  {
   "cell_type": "code",
   "execution_count": null,
   "metadata": {},
   "outputs": [],
   "source": [
    "print(\"Mean of Log Returns: \",round(log_returns.mean(),4))\n",
    "print(\"Standard Deviation of Log Returns: \",round(log_returns.std(),4))\n",
    "print(\"Skewness of Log Returns: \",round(log_returns.skew(),4))\n",
    "print(\"Kurtosis of Log Returns: \",round(log_returns.kurtosis(),4))"
   ]
  },
  {
   "cell_type": "code",
   "execution_count": null,
   "metadata": {},
   "outputs": [],
   "source": [
    "# Jarque-Bera Test\n",
    "from scipy.stats import jarque_bera\n",
    "\n",
    "\n",
    "jb_test=jarque_bera(log_returns)\n",
    "print(\"Jarque-Bera Test Statistic: \",jb_test[0])\n",
    "print(\"Jarque-Bera Test P-Value: \",jb_test[1])\n",
    "\n",
    "if jb_test[1]<SIGNIFICANCE_LEVEL:\n",
    "    print(\"\\nReject Null Hypothesis: The data is not normally distributed\")\n",
    "else:\n",
    "    print(\"\\nFail to Reject Null Hypothesis : The data is normally distributed\")"
   ]
  },
  {
   "cell_type": "code",
   "execution_count": null,
   "metadata": {},
   "outputs": [],
   "source": [
    "# use Kolmogorov-Smirnov test to check normality\n",
    "\n",
    "from scipy.stats import kstest\n",
    "\n",
    "ks_test=kstest(log_returns,'norm')\n",
    "\n",
    "print(\"\\nKolmogorov-Smirnov Test Statistic: \",ks_test.statistic)\n",
    "print(\"Kolmogorov-Smirnov Test P-Value: \",ks_test.pvalue)\n",
    "\n",
    "if ks_test.pvalue<SIGNIFICANCE_LEVEL:\n",
    "    print(\"\\nReject Null Hypothesis: The data is not normally distributed\")\n",
    "else:\n",
    "    print(\"\\nFail to Reject Null Hypothesis : The data is normally distributed\")"
   ]
  },
  {
   "cell_type": "code",
   "execution_count": null,
   "metadata": {},
   "outputs": [],
   "source": [
    "# use Shapiro-Wilk test to check normality\n",
    "\n",
    "from scipy.stats import shapiro\n",
    "\n",
    "shapiro_test=shapiro(log_returns)\n",
    "\n",
    "print(\"\\nShapiro-Wilk Test Statistic: \",shapiro_test[0])\n",
    "print(\"Shapiro-Wilk Test P-Value: \",shapiro_test[1])\n",
    "\n",
    "if shapiro_test[1]<SIGNIFICANCE_LEVEL:\n",
    "    print(\"\\nReject Null Hypothesis: The data is not normally distributed\")\n",
    "else:\n",
    "    print(\"\\nFail to Reject Null Hypothesis : The data is normally distributed\")"
   ]
  },
  {
   "cell_type": "markdown",
   "metadata": {},
   "source": [
    "## Returns Analysis"
   ]
  },
  {
   "cell_type": "code",
   "execution_count": null,
   "metadata": {},
   "outputs": [],
   "source": [
    "# Check for auto correlation in log_returns\n",
    "\n",
    "import statsmodels.api as sm\n",
    "\n",
    "sm.graphics.tsa.plot_acf(log_returns,lags=20)\n",
    "plt.xlabel('Lag')\n",
    "plt.ylabel(\"Auto-Correlation\")\n",
    "plt.title(\"Auto-Correlation Function (ACF) of Log Returns\")\n",
    "plt.ylim(-0.3,1.1)\n",
    "plt.yticks(np.arange(-0.3,1.1,0.05))\n",
    "plt.show()\n",
    "\n"
   ]
  },
  {
   "cell_type": "markdown",
   "metadata": {},
   "source": [
    "## Volatility Modelling"
   ]
  },
  {
   "cell_type": "code",
   "execution_count": null,
   "metadata": {},
   "outputs": [],
   "source": [
    "HistoricalVolatility=np.std(log_returns)\n",
    "AnnualHistoricalVolatility=HistoricalVolatility*math.sqrt(TRADING_DAYS)\n",
    "print(\"\\nHistorical Daily Volatility (%): \",HistoricalVolatility)\n",
    "print(\"Historical Annual Volatility (%): \",AnnualHistoricalVolatility)"
   ]
  },
  {
   "cell_type": "code",
   "execution_count": null,
   "metadata": {},
   "outputs": [],
   "source": [
    "CandidateModels=[(1,1),(1,2),(2,1),(2,2),(3,2),(2,3),(3,3)]\n",
    "\n",
    "BestModel=None\n",
    "BestModelStatistic= float('-inf')\n",
    "Parameters=None\n",
    "\n",
    "for p,q in CandidateModels:\n",
    "    model=arch_model(log_returns,vol='Garch',p=p,q=q)\n",
    "    model_fit=model.fit(disp='off')\n",
    "    if model_fit.aic>BestModelStatistic:\n",
    "        BestModelStatistic=model_fit.aic\n",
    "        BestModel=model_fit\n",
    "        Parameters=(p,q)\n",
    "\n",
    "print(\"\\nBest Parameters(p,q): \",Parameters)\n",
    "\n",
    "GARCHVolatility=BestModel.forecast(horizon=1).variance.iloc[-1].values[-1]\n",
    "AnnualGARCHVolatility=GARCHVolatility*math.sqrt(TRADING_DAYS)\n",
    "\n",
    "print(\"\\nGARCH Daily Volatility (%): \",GARCHVolatility)\n",
    "print(\"GARCH Annual Volatility (%): \",AnnualGARCHVolatility)"
   ]
  },
  {
   "cell_type": "markdown",
   "metadata": {},
   "source": [
    "## Option Pricing"
   ]
  },
  {
   "cell_type": "code",
   "execution_count": null,
   "metadata": {},
   "outputs": [],
   "source": [
    "def nCr(n,r):\n",
    "    f = math.factorial\n",
    "    return f(n)/(f(r)*f(n-r))"
   ]
  },
  {
   "cell_type": "code",
   "execution_count": null,
   "metadata": {},
   "outputs": [],
   "source": [
    "from abc import ABC,abstractmethod\n",
    "\n",
    "class OptionPricing(ABC):\n",
    "\n",
    "    @abstractmethod\n",
    "    def __init__(self,spot_price,strike_price,risk_free_rate,volatility,time_to_expiry):\n",
    "        pass\n",
    "\n",
    "    @abstractmethod\n",
    "    def OptionPrice(self,type):\n",
    "        pass\n",
    "\n",
    "    @abstractmethod\n",
    "    def setStrikePrice(self,strikePrice):\n",
    "        pass\n"
   ]
  },
  {
   "cell_type": "code",
   "execution_count": null,
   "metadata": {},
   "outputs": [],
   "source": [
    "class OptionPricingCRR(OptionPricing):\n",
    "\n",
    "    def __init__(self,s0,Annualvolatility,strikePrice,maturity,riskFreeRate,steps,dividentYield=0):\n",
    "        self.s0=s0\n",
    "        self.strikePrice=strikePrice\n",
    "        self.steps=steps\n",
    "        self.dividentYield=dividentYield\n",
    "        self.DaysToMaturity=(maturity-TODAY).days\n",
    "\n",
    "        self.volatility=Annualvolatility*math.sqrt(self.DaysToMaturity/YEAR_DAYS)\n",
    "        self.riskFreeRate=(riskFreeRate)/(YEAR_DAYS*self.steps/self.DaysToMaturity)\n",
    "\n",
    "        self.delta=self.DaysToMaturity/self.steps\n",
    "        self.u=math.exp(self.volatility*math.sqrt(self.delta))\n",
    "        self.d=1/self.u\n",
    "        \n",
    "        self.riskNeutralProbability=(math.exp((self.riskFreeRate-self.dividentYield)*self.delta)-self.d)/(self.u-self.d)\n",
    "\n",
    "    def OptionPrice(self,type='C'):\n",
    "\n",
    "        FuturePrice=0\n",
    "\n",
    "        for i in range(0,self.steps+1):\n",
    "            equityPriceMaturity=self.s0*(self.u**i)*(self.d**(self.steps-i))\n",
    "\n",
    "            if type=='C':\n",
    "                profit=max(equityPriceMaturity-self.strikePrice,0)\n",
    "            else:\n",
    "                profit=max(self.strikePrice-equityPriceMaturity,0)\n",
    "\n",
    "            prob=(self.riskNeutralProbability**i)*((1-self.riskNeutralProbability)**(self.steps-i))\n",
    "            \n",
    "\n",
    "            FuturePrice+=profit*nCr(self.steps,i)*prob\n",
    "\n",
    "        discountFactor=math.exp(-self.riskFreeRate*self.steps)\n",
    "\n",
    "        return FuturePrice*discountFactor\n",
    "    \n",
    "\n",
    "    def setStrikePrice(self,strikePrice):\n",
    "        self.strikePrice=strikePrice"
   ]
  },
  {
   "cell_type": "code",
   "execution_count": null,
   "metadata": {},
   "outputs": [],
   "source": [
    "class OptionPricingSimulation(OptionPricing):\n",
    "    def __init__(self,s0,Annualvolatility,strikePrice,maturity,riskFreeRate,steps,dividentYield=0,numSimulations=100000):\n",
    "        self.s0=s0\n",
    "        self.strikePrice=strikePrice\n",
    "        self.steps=steps\n",
    "        self.dividentYield=dividentYield\n",
    "        self.DaysToMaturity=(maturity-TODAY).days\n",
    "\n",
    "        self.stepFactor=self.DaysToMaturity/self.steps\n",
    "\n",
    "        self.volatility=Annualvolatility*math.sqrt(self.DaysToMaturity/YEAR_DAYS)*math.sqrt(self.stepFactor)\n",
    "        self.riskFreeRate=(riskFreeRate/YEAR_DAYS)*self.stepFactor\n",
    "        \n",
    "        self.numSimulations=numSimulations\n",
    "\n",
    "    def OptionPrice(self,type='C'):\n",
    "\n",
    "        totalPayoff=0\n",
    "\n",
    "        for i in range(0,self.numSimulations):\n",
    "\n",
    "            trendTerm=(self.riskFreeRate-self.dividentYield-0.5*self.volatility**2)*self.steps\n",
    "            volatilityTerm=self.volatility*math.sqrt(self.steps)*np.random.normal()\n",
    "\n",
    "            equityPrice=self.s0*math.exp(trendTerm+volatilityTerm)\n",
    "\n",
    "            if type=='C':\n",
    "                payoff=max(equityPrice-self.strikePrice,0)\n",
    "            else:\n",
    "                payoff=max(self.strikePrice-equityPrice,0)\n",
    "\n",
    "            totalPayoff+=payoff\n",
    "        \n",
    "        AveragePayoff=totalPayoff/self.numSimulations\n",
    "\n",
    "        discountFactor=math.exp(-self.riskFreeRate*self.steps)\n",
    "\n",
    "        return AveragePayoff*discountFactor\n",
    "\n",
    "    def setStrikePrice(self,strikePrice):\n",
    "        self.strikePrice=strikePrice\n",
    "    "
   ]
  },
  {
   "cell_type": "code",
   "execution_count": 37,
   "metadata": {},
   "outputs": [],
   "source": [
    "class OptionPricingBS(OptionPricing):\n",
    "\n",
    "    def __init__(self,s0,Annualvolatility,strikePrice,maturity,riskFreeRate,dividentYield=0):\n",
    "        self.s0=s0\n",
    "        self.strikePrice=strikePrice\n",
    "        self.Annualvolatility=Annualvolatility\n",
    "        self.dividentYield=dividentYield\n",
    "        self.YearMaturity=(maturity-TODAY).days/YEAR_DAYS\n",
    "        self.riskFreeRate=riskFreeRate\n",
    "\n",
    "    def OptionPrice(self,type='C'):\n",
    "        term1=math.log(self.s0/self.strikePrice)\n",
    "        term2=(self.riskFreeRate-self.dividentYield+0.5*self.Annualvolatility**2)*self.YearMaturity\n",
    "        denominator=self.Annualvolatility*math.sqrt(self.YearMaturity)\n",
    "\n",
    "        d1=(term1+term2)/denominator\n",
    "        d2=d1-self.Annualvolatility*math.sqrt(self.YearMaturity)\n",
    "\n",
    "        if type=='C':\n",
    "            part1=self.s0*math.exp(-self.dividentYield*self.YearMaturity)*norm.cdf(d1)\n",
    "            part2=self.strikePrice*math.exp(-self.riskFreeRate*self.YearMaturity)*norm.cdf(d2)\n",
    "            return part1-part2\n",
    "        else:\n",
    "            part1=self.strikePrice*math.exp(-self.riskFreeRate*self.YearMaturity)*norm.cdf(-d2)\n",
    "            part2=self.s0*math.exp(-self.dividentYield*self.YearMaturity)*norm.cdf(-d1)\n",
    "            return part1-part2\n",
    "        \n",
    "\n",
    "    def setStrikePrice(self,strikePrice):\n",
    "        self.strikePrice=strikePrice"
   ]
  },
  {
   "cell_type": "code",
   "execution_count": 38,
   "metadata": {},
   "outputs": [],
   "source": [
    "CurrentPrice=Equity_df[PRICE_ANALYSIS].iloc[-1]\n",
    "strikePrice=1180\n",
    "RiskFreeRate=RISK_FREE_RATE/100\n",
    "step=100\n",
    "\n",
    "\n",
    "# Volatility=AnnualHistoricalVolatility/100\n",
    "Volatility=AnnualGARCHVolatility/100"
   ]
  },
  {
   "cell_type": "code",
   "execution_count": 39,
   "metadata": {},
   "outputs": [
    {
     "data": {
      "text/plain": [
       "430.54411021309653"
      ]
     },
     "execution_count": 39,
     "metadata": {},
     "output_type": "execute_result"
    }
   ],
   "source": [
    "optionCRR=OptionPricingCRR(CurrentPrice,\n",
    "                        Volatility,\n",
    "                        strikePrice,\n",
    "                        OPTION_EXPIRY,\n",
    "                        RiskFreeRate,\n",
    "                        step)\n",
    "\n",
    "optionCRR.OptionPrice('C')"
   ]
  },
  {
   "cell_type": "code",
   "execution_count": 40,
   "metadata": {},
   "outputs": [
    {
     "data": {
      "text/plain": [
       "430.46634470881133"
      ]
     },
     "execution_count": 40,
     "metadata": {},
     "output_type": "execute_result"
    }
   ],
   "source": [
    "optionSimulation=OptionPricingSimulation(CurrentPrice,\n",
    "                        Volatility,\n",
    "                        strikePrice,\n",
    "                        OPTION_EXPIRY,\n",
    "                        RiskFreeRate,\n",
    "                        step)\n",
    "\n",
    "optionSimulation.OptionPrice('C')"
   ]
  },
  {
   "cell_type": "code",
   "execution_count": 41,
   "metadata": {},
   "outputs": [
    {
     "data": {
      "text/plain": [
       "89.46835523798882"
      ]
     },
     "execution_count": 41,
     "metadata": {},
     "output_type": "execute_result"
    }
   ],
   "source": [
    "optionBS=OptionPricingBS(CurrentPrice,\n",
    "                        Volatility,\n",
    "                        strikePrice,\n",
    "                        OPTION_EXPIRY,\n",
    "                        RiskFreeRate)\n",
    "\n",
    "optionBS.OptionPrice('C')"
   ]
  }
 ],
 "metadata": {
  "kernelspec": {
   "display_name": "Python 3",
   "language": "python",
   "name": "python3"
  },
  "language_info": {
   "codemirror_mode": {
    "name": "ipython",
    "version": 3
   },
   "file_extension": ".py",
   "mimetype": "text/x-python",
   "name": "python",
   "nbconvert_exporter": "python",
   "pygments_lexer": "ipython3",
   "version": "3.10.12"
  }
 },
 "nbformat": 4,
 "nbformat_minor": 2
}
